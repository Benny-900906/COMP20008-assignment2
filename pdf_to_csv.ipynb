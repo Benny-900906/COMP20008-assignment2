{
 "cells": [
  {
   "cell_type": "code",
   "execution_count": null,
   "metadata": {},
   "outputs": [],
   "source": [
    "\"\"\"\n",
    "to be able to use this tabula, ensure Java is installed and PATH is set for `java`\n",
    "\"\"\"\n",
    "\n",
    "import tabula\n",
    "\n",
    "TARGET_FILE = \"1_school_vce_performance.pdf\"\n",
    "\n",
    "df = tabula.read_pdf(TARGET_FILE, pages = 1)[0]\n",
    "\n",
    "df.to_csv(\"1_school_vce_performance.csv\")"
   ]
  }
 ],
 "metadata": {
  "kernelspec": {
   "display_name": "Python 3",
   "language": "python",
   "name": "python3"
  },
  "language_info": {
   "codemirror_mode": {
    "name": "ipython",
    "version": 3
   },
   "file_extension": ".py",
   "mimetype": "text/x-python",
   "name": "python",
   "nbconvert_exporter": "python",
   "pygments_lexer": "ipython3",
   "version": "3.7.4"
  }
 },
 "nbformat": 4,
 "nbformat_minor": 4
}
