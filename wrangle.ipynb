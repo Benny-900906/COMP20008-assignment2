{
 "cells": [
  {
   "cell_type": "code",
   "execution_count": 183,
   "metadata": {},
   "outputs": [],
   "source": [
    "import pandas as pd \n",
    "import html.parser \n",
    "from numpy import arange\n",
    "import nltk\n",
    "from nltk.corpus import stopwords \n",
    "import re\n",
    "\n",
    "stopWords = set(stopwords.words(\"english\"))\n",
    "\n",
    "skl_loc = pd.read_csv(\"2_school_locations.csv\", encoding = \"ISO-8859-1\");\n",
    "averageIncome = pd.read_csv(\"0_taxation_by_postcode.csv\", encoding = \"ISO-8859-1\");\n",
    "\n",
    "skl_loc = skl_loc.loc[skl_loc[\"School_Type\"] == \"Secondary\"];\n",
    "skl_postcode = [x.upper() for x in skl_loc[\"Postal_Town\"]]\n",
    "\n",
    "\n",
    "\n",
    "averageIncome = pd.DataFrame({\"Postcode\": averageIncome[\"Postcode\"], \"Average Income in Postcode \": averageIncome[\"Average salary or wages\"]});\n",
    "\n",
    "\n",
    "\n",
    "\n",
    "skl_performance = pd.read_csv('school_vce_performance.csv', encoding = \"ISO-8859-1\")\n",
    "\n",
    "\n",
    "\n",
    "\n",
    "skl_name1 = list(skl_loc[\"School_Name\"])\n",
    "skl_name2 = skl_performance[\"School Name\"]\n",
    "\n",
    "\n",
    "\n",
    "\n",
    "\n",
    "\n",
    "\n",
    "\n",
    "\n",
    "\n",
    "\n",
    "\n",
    "\n",
    "\n",
    "\n",
    "\n",
    "\n",
    "skl_name_for_skl_loc = []\n",
    "skl_name_for_skl_per = []\n",
    "\n",
    "for name in skl_name1:\n",
    "    text = name\n",
    "    text = re.findall(r'^[^\\(]+', text)\n",
    "    text = text[0]\n",
    "    text = text.strip()\n",
    "    text = re.sub(r'[^\\d\\w-]', ' ', text)\n",
    "    text = re.sub(r'\\s+', ' ', text)\n",
    "    text = text.split(' ')\n",
    "    for word in text:\n",
    "        if len(word) == 1:\n",
    "            text.remove(word)\n",
    "    text = ' '.join(text)\n",
    "    skl_name_for_skl_loc.append(text)\n",
    "    \n",
    "    \n",
    "for name in skl_name2:\n",
    "    text = name\n",
    "    text = re.findall(r'^[^\\(]+', text)\n",
    "    text = text[0]\n",
    "    text = text.strip()\n",
    "    text = re.sub(r'[^\\d\\w-]', ' ', text)\n",
    "    text = re.sub(r'\\s+', ' ', text)\n",
    "    text = text.split(' ')\n",
    "    for word in text:\n",
    "        if len(word) == 1:\n",
    "            text.remove(word)\n",
    "    text = ' '.join(text)\n",
    "    skl_name_for_skl_per.append(text)\n",
    "    \n",
    "\n",
    "skl_loc = pd.DataFrame({\"School Name\": skl_name_for_skl_loc, \"School Type\": skl_loc[\"School_Type\"], \"Locality\": skl_postcode, \"Postcode\":skl_loc[\"Postal_Postcode\"]});\n",
    "\n",
    "skl_n_income = skl_loc.merge(averageIncome, how='left', on='Postcode', sort = True)\n",
    "\n",
    "skl_n_income.to_csv(\"school_loc_and_average_income_within_the_postcode.csv\")\n",
    "\n",
    "skl_performance[\"School Name\"] = skl_name_for_skl_per\n",
    "\n",
    "\n",
    "skl_n_income_n_performance = skl_n_income.merge(skl_performance, how='left', on = [\"School Name\", \"Locality\"])\n",
    "\n",
    "skl_n_income_n_performance.to_csv(\"final.csv\")\n",
    "\n",
    " \n"
   ]
  },
  {
   "cell_type": "code",
   "execution_count": 144,
   "metadata": {},
   "outputs": [
    {
     "data": {
      "text/plain": [
       "0.88"
      ]
     },
     "execution_count": 144,
     "metadata": {},
     "output_type": "execute_result"
    }
   ],
   "source": [
    "from difflib import SequenceMatcher\n",
    "\n",
    "def similar(a, b):\n",
    "    return SequenceMatcher(None, a, b).ratio()\n",
    "\n",
    "similar(\"High School\", \"High He School\")"
   ]
  },
  {
   "cell_type": "code",
   "execution_count": null,
   "metadata": {},
   "outputs": [],
   "source": []
  },
  {
   "cell_type": "code",
   "execution_count": null,
   "metadata": {},
   "outputs": [],
   "source": []
  }
 ],
 "metadata": {
  "kernelspec": {
   "display_name": "Python 3",
   "language": "python",
   "name": "python3"
  },
  "language_info": {
   "codemirror_mode": {
    "name": "ipython",
    "version": 3
   },
   "file_extension": ".py",
   "mimetype": "text/x-python",
   "name": "python",
   "nbconvert_exporter": "python",
   "pygments_lexer": "ipython3",
   "version": "3.7.4"
  }
 },
 "nbformat": 4,
 "nbformat_minor": 4
}
